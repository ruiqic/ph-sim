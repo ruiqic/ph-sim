{
 "cells": [
  {
   "cell_type": "code",
   "execution_count": 1,
   "id": "57d61531-6025-4181-939e-b151c5059a60",
   "metadata": {},
   "outputs": [],
   "source": [
    "from simulate import simulate\n",
    "import time\n",
    "from play import get_remaining_deck, play_game"
   ]
  },
  {
   "cell_type": "code",
   "execution_count": 5,
   "id": "b53049c8-2757-4ee8-87de-4fb4e8aa6099",
   "metadata": {},
   "outputs": [
    {
     "name": "stdout",
     "output_type": "stream",
     "text": [
      "[-1 -1 -1 -1 -1 -1]\n"
     ]
    }
   ],
   "source": [
    "import numpy as np\n",
    "\n",
    "# Example array\n",
    "x = [-1,5, 3, 8, 1, 6]\n",
    "\n",
    "# Calculate the cumulative minimum along the array\n",
    "result = np.minimum.accumulate(x)\n",
    "\n",
    "print(result)\n"
   ]
  },
  {
   "cell_type": "code",
   "execution_count": 11,
   "id": "77983684-759b-4b00-92e9-8fecbe42a533",
   "metadata": {},
   "outputs": [],
   "source": [
    "num_players = 5\n",
    "hole = [\"5c\", \"5d\"]\n",
    "#community = [\"6h\",\"8c\",\"8s\", \"2h\"]\n",
    "community = []"
   ]
  },
  {
   "cell_type": "code",
   "execution_count": 12,
   "id": "14816c3b-ff2b-4f84-9b4b-c267d4bfd610",
   "metadata": {},
   "outputs": [
    {
     "name": "stderr",
     "output_type": "stream",
     "text": [
      "100%|████████████████████████████████████████████████████████████████████████| 100000/100000 [00:03<00:00, 30217.16it/s]\n"
     ]
    },
    {
     "data": {
      "text/plain": [
       "(0.22975, 3.312615156173706)"
      ]
     },
     "execution_count": 12,
     "metadata": {},
     "output_type": "execute_result"
    }
   ],
   "source": [
    "start = time.time()\n",
    "out = simulate(num_players, hole, community, n=100000)\n",
    "out, time.time()-start"
   ]
  },
  {
   "cell_type": "code",
   "execution_count": 18,
   "id": "9669ac83-be54-412d-8e75-849294e54c4a",
   "metadata": {},
   "outputs": [
    {
     "data": {
      "text/plain": [
       "['ji']"
      ]
     },
     "execution_count": 18,
     "metadata": {},
     "output_type": "execute_result"
    }
   ],
   "source": [
    "\"ji\".split(\" \")"
   ]
  },
  {
   "cell_type": "code",
   "execution_count": 13,
   "id": "8dc390ba-b0a2-4b9d-bbc3-646eab9c5a97",
   "metadata": {},
   "outputs": [
    {
     "name": "stdout",
     "output_type": "stream",
     "text": [
      "['Ad', 'As', 'Ac', 'Ah', '2d', '2s', '2c', '2h', '3d', '3s', '3c', '3h', '4d', '4s', '4c', '4h', '5d', '5s', '5c', '5h', '6d', '6s', '6c', '6h', '7d', '7s', '7c', '7h', '8d', '8s', '8c', '8h', '9d', '9s', '9c', '9h', 'Td', 'Ts', 'Tc', 'Th', 'Jd', 'Js', 'Jc', 'Jh', 'Qd', 'Qs', 'Qc', 'Qh', 'Kd', 'Ks', 'Kc', 'Kh']\n"
     ]
    }
   ],
   "source": [
    "import itertools\n",
    "\n",
    "SUITS = ['d', 's', 'c', 'h']\n",
    "RANKS = ['A', '2', '3', '4', '5', '6', '7', '8', '9', 'T', 'J', 'Q', 'K']\n",
    "\n",
    "cards = [rank + suit for rank, suit in itertools.product(RANKS, SUITS)]\n",
    "print(cards)\n"
   ]
  },
  {
   "cell_type": "code",
   "execution_count": 46,
   "id": "c87c38ce-a379-4f71-a90c-6cd842bbbd6f",
   "metadata": {},
   "outputs": [],
   "source": [
    "seen_cards = hole+community\n",
    "deck = get_remaining_deck(seen_cards)"
   ]
  },
  {
   "cell_type": "code",
   "execution_count": 47,
   "id": "5d0bf7a9-8c46-4105-a06a-00534b8e297b",
   "metadata": {},
   "outputs": [
    {
     "name": "stdout",
     "output_type": "stream",
     "text": [
      "Community: ['6h', '8c', 'As', 'Ah', '3d']\n",
      "My hand: ['Ac', 'Ad'] 16\n",
      "Player 0 hand: ['5h', '7d'] 3511\n"
     ]
    },
    {
     "data": {
      "text/plain": [
       "False"
      ]
     },
     "execution_count": 47,
     "metadata": {},
     "output_type": "execute_result"
    }
   ],
   "source": [
    "play_game(num_players, hole, community, deck, verbose=True)"
   ]
  },
  {
   "cell_type": "code",
   "execution_count": 12,
   "id": "3ba09033-7be7-438f-8fe4-28267db118ec",
   "metadata": {},
   "outputs": [
    {
     "data": {
      "text/plain": [
       "[2, 1]"
      ]
     },
     "execution_count": 12,
     "metadata": {},
     "output_type": "execute_result"
    }
   ],
   "source": [
    "random.sample([1,2,3,4], k=2)"
   ]
  },
  {
   "cell_type": "code",
   "execution_count": 3,
   "id": "9c767d96-c9cf-4a86-9459-0d368c128d79",
   "metadata": {},
   "outputs": [
    {
     "data": {
      "text/plain": [
       "50"
      ]
     },
     "execution_count": 3,
     "metadata": {},
     "output_type": "execute_result"
    }
   ],
   "source": [
    "len(remaining_deck)"
   ]
  },
  {
   "cell_type": "code",
   "execution_count": 2,
   "id": "c865131c-ca48-48fc-8667-f69e1dd8e4b1",
   "metadata": {},
   "outputs": [],
   "source": [
    "rng = np.random.default_rng()"
   ]
  },
  {
   "cell_type": "code",
   "execution_count": 23,
   "id": "38da72c6-251d-4f52-a520-6af0d21acb1b",
   "metadata": {},
   "outputs": [],
   "source": [
    "lst = set(suits)\n",
    "a = np.array(lst)"
   ]
  },
  {
   "cell_type": "code",
   "execution_count": 24,
   "id": "5f3230c4-a7c8-4e24-b780-33d7f151a1fd",
   "metadata": {},
   "outputs": [
    {
     "ename": "ValueError",
     "evalue": "a must be a sequence or an integer, not <class 'numpy.ndarray'>",
     "output_type": "error",
     "traceback": [
      "\u001b[0;31m---------------------------------------------------------------------------\u001b[0m",
      "\u001b[0;31mTypeError\u001b[0m                                 Traceback (most recent call last)",
      "File \u001b[0;32mnumpy/random/_generator.pyx:793\u001b[0m, in \u001b[0;36mnumpy.random._generator.Generator.choice\u001b[0;34m()\u001b[0m\n",
      "\u001b[0;31mTypeError\u001b[0m: 'set' object cannot be interpreted as an integer",
      "\nThe above exception was the direct cause of the following exception:\n",
      "\u001b[0;31mValueError\u001b[0m                                Traceback (most recent call last)",
      "Cell \u001b[0;32mIn[24], line 1\u001b[0m\n\u001b[0;32m----> 1\u001b[0m \u001b[43mrng\u001b[49m\u001b[38;5;241;43m.\u001b[39;49m\u001b[43mchoice\u001b[49m\u001b[43m(\u001b[49m\u001b[43ma\u001b[49m\u001b[43m,\u001b[49m\u001b[43m \u001b[49m\u001b[43msize\u001b[49m\u001b[38;5;241;43m=\u001b[39;49m\u001b[38;5;241;43m4\u001b[39;49m\u001b[43m,\u001b[49m\u001b[43m \u001b[49m\u001b[43mreplace\u001b[49m\u001b[38;5;241;43m=\u001b[39;49m\u001b[38;5;28;43;01mFalse\u001b[39;49;00m\u001b[43m,\u001b[49m\u001b[43m \u001b[49m\u001b[43mshuffle\u001b[49m\u001b[38;5;241;43m=\u001b[39;49m\u001b[38;5;28;43;01mFalse\u001b[39;49;00m\u001b[43m)\u001b[49m\n",
      "File \u001b[0;32mnumpy/random/_generator.pyx:795\u001b[0m, in \u001b[0;36mnumpy.random._generator.Generator.choice\u001b[0;34m()\u001b[0m\n",
      "\u001b[0;31mValueError\u001b[0m: a must be a sequence or an integer, not <class 'numpy.ndarray'>"
     ]
    }
   ],
   "source": [
    "rng.choice(a, size=4, replace=False, shuffle=False)"
   ]
  },
  {
   "cell_type": "code",
   "execution_count": null,
   "id": "9d62fe24-c19d-489f-8e83-1348f85ed8ce",
   "metadata": {},
   "outputs": [],
   "source": []
  }
 ],
 "metadata": {
  "kernelspec": {
   "display_name": "poker",
   "language": "python",
   "name": "poker"
  },
  "language_info": {
   "codemirror_mode": {
    "name": "ipython",
    "version": 3
   },
   "file_extension": ".py",
   "mimetype": "text/x-python",
   "name": "python",
   "nbconvert_exporter": "python",
   "pygments_lexer": "ipython3",
   "version": "3.10.13"
  }
 },
 "nbformat": 4,
 "nbformat_minor": 5
}
